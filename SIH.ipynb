{
 "cells": [
  {
   "cell_type": "code",
   "execution_count": 11,
   "id": "07a19643-c31d-480e-96a6-5e6b6697ed54",
   "metadata": {},
   "outputs": [],
   "source": [
    "import os\n",
    "import random\n",
    "import shutil\n",
    "import cv2\n",
    "import numpy as np\n",
    "from tensorflow.keras.preprocessing.image import load_img, img_to_array\n",
    "from tensorflow.keras.applications import ResNet50\n",
    "from tensorflow.keras.models import Sequential\n",
    "from tensorflow.keras.layers import Dense, GlobalAveragePooling2D, Dropout\n",
    "from tensorflow.keras.optimizers import Adam\n",
    "from tensorflow.keras.callbacks import EarlyStopping, ReduceLROnPlateau\n",
    "from sklearn.model_selection import train_test_split\n",
    "from tensorflow.keras.preprocessing.image import ImageDataGenerator"
   ]
  },
  {
   "cell_type": "code",
   "execution_count": 13,
   "id": "5b4ecc16-9b5b-4c6d-bfa3-8f82eb9f1f9c",
   "metadata": {},
   "outputs": [],
   "source": [
    "real_videos_path = \"C:\\\\Users\\\\HP\\\\Downloads\\\\Celeb-real\"\n",
    "fake_videos_path = \"C:\\\\Users\\\\HP\\\\Downloads\\\\Celeb-synthesis\"\n",
    "output_real_path = 'C:\\\\Users\\\\HP\\\\Downloads\\\\extracted_real_frames1'\n",
    "output_fake_path = 'C:\\\\Users\\\\HP\\\\Downloads\\\\extracted_fake_frames1'"
   ]
  },
  {
   "cell_type": "code",
   "execution_count": 15,
   "id": "d0a80277-5a54-43cd-bfcf-53a8f2bd4455",
   "metadata": {},
   "outputs": [],
   "source": [
    "def extract_frames(video_path, save_dir, frame_rate=30):\n",
    "    \"\"\"Extract frames from a video file and save them as images.\"\"\"\n",
    "    if not os.path.exists(save_dir):\n",
    "        os.makedirs(save_dir)\n",
    "    \n",
    "    cap = cv2.VideoCapture(video_path)\n",
    "    count = 0\n",
    "    while cap.isOpened():\n",
    "        ret, frame = cap.read()\n",
    "        if not ret:\n",
    "            break\n",
    "        if count % frame_rate == 0:  # Save one frame per second\n",
    "            frame_filename = os.path.join(save_dir, f\"frame_{count}.jpg\")\n",
    "            cv2.imwrite(frame_filename, frame)\n",
    "        count += 1\n",
    "    cap.release()"
   ]
  },
  {
   "cell_type": "code",
   "execution_count": 17,
   "id": "18f0e8f1-263c-4f74-b2de-0265f8d8721e",
   "metadata": {},
   "outputs": [],
   "source": [
    "def load_images_from_folder(folder, label, img_size=(224, 224)):\n",
    "    data = []\n",
    "    labels = []\n",
    "    for subfolder in os.listdir(folder):  # Each subfolder contains frames for a single video\n",
    "        subfolder_path = os.path.join(folder, subfolder)\n",
    "        for filename in os.listdir(subfolder_path):\n",
    "            img_path = os.path.join(subfolder_path, filename)\n",
    "            img = load_img(img_path, target_size=img_size)\n",
    "            img = img_to_array(img) / 255.0  # Normalize images\n",
    "            data.append(img)\n",
    "            labels.append(label)\n",
    "    return np.array(data), np.array(labels)"
   ]
  },
  {
   "cell_type": "code",
   "execution_count": 19,
   "id": "c98382be-03de-41f9-939c-5efc34fb3667",
   "metadata": {},
   "outputs": [],
   "source": [
    "real_images, real_labels = load_images_from_folder(output_real_path, label=0)\n",
    "fake_images, fake_labels = load_images_from_folder(output_fake_path, label=1)\n"
   ]
  },
  {
   "cell_type": "code",
   "execution_count": 21,
   "id": "88bb3691-076b-42e7-8f9b-3f10a448b032",
   "metadata": {},
   "outputs": [],
   "source": [
    "X = np.concatenate([real_images, fake_images], axis=0)\n",
    "y = np.concatenate([real_labels, fake_labels], axis=0)\n",
    "X_train, X_test, y_train, y_test = train_test_split(X, y, test_size=0.2, random_state=42)\n"
   ]
  },
  {
   "cell_type": "code",
   "execution_count": 25,
   "id": "0bfca33a-db39-437d-b2a0-94e3badab7cb",
   "metadata": {},
   "outputs": [
    {
     "name": "stdout",
     "output_type": "stream",
     "text": [
      "Downloading data from https://storage.googleapis.com/tensorflow/keras-applications/resnet/resnet50_weights_tf_dim_ordering_tf_kernels_notop.h5\n",
      "\u001b[1m94765736/94765736\u001b[0m \u001b[32m━━━━━━━━━━━━━━━━━━━━\u001b[0m\u001b[37m\u001b[0m \u001b[1m28s\u001b[0m 0us/step\n"
     ]
    }
   ],
   "source": [
    "base_model = ResNet50(weights='imagenet', include_top=False, input_shape=(224, 224, 3))\n"
   ]
  },
  {
   "cell_type": "code",
   "execution_count": 27,
   "id": "4c74b949-2269-49ba-8800-aa89f046a712",
   "metadata": {},
   "outputs": [],
   "source": [
    "model = Sequential([\n",
    "    base_model,\n",
    "    GlobalAveragePooling2D(),\n",
    "    Dropout(0.5),\n",
    "    Dense(256, activation='relu'),\n",
    "    Dropout(0.5),\n",
    "    Dense(1, activation='sigmoid')  # Binary classification\n",
    "])\n"
   ]
  },
  {
   "cell_type": "code",
   "execution_count": 31,
   "id": "3586ae4b-9502-43f3-8d43-25b3f92b5e08",
   "metadata": {},
   "outputs": [],
   "source": [
    "from tensorflow.keras.optimizers import Adam\n",
    "\n",
    "model.compile(optimizer=Adam(learning_rate=1e-4), loss='binary_crossentropy', metrics=['accuracy'])"
   ]
  },
  {
   "cell_type": "code",
   "execution_count": 33,
   "id": "751a3c3d-ad1b-490e-8a9d-bf243029a3cc",
   "metadata": {},
   "outputs": [],
   "source": [
    "datagen = ImageDataGenerator(\n",
    "    rotation_range=20,\n",
    "    width_shift_range=0.2,\n",
    "    height_shift_range=0.2,\n",
    "    shear_range=0.2,\n",
    "    zoom_range=0.2,\n",
    "    horizontal_flip=True,\n",
    "    fill_mode='nearest'\n",
    ")\n",
    "'''Rotation, shifts, and flips introduce variations to the images, helping the model generalize better by training it on multiple perspectives of a face.\n",
    "This helps the model identify deepfake manipulations even when the face is rotated, slightly shifted, or zoomed.'''"
   ]
  },
  {
   "cell_type": "code",
   "execution_count": 35,
   "id": "08e76506-8acc-4372-910b-313497f830e8",
   "metadata": {},
   "outputs": [],
   "source": [
    "train_generator = datagen.flow(X_train, y_train, batch_size=32)"
   ]
  },
  {
   "cell_type": "code",
   "execution_count": 37,
   "id": "6a0fea92-afbf-40f0-9a55-790cec9936c3",
   "metadata": {},
   "outputs": [],
   "source": [
    "early_stopping = EarlyStopping(monitor='val_loss', patience=5, restore_best_weights=True)\n",
    "lr_reduce = ReduceLROnPlateau(monitor='val_loss', factor=0.5, patience=3, verbose=1)"
   ]
  },
  {
   "cell_type": "code",
   "execution_count": 41,
   "id": "44ba4302-187d-4a4d-ab8e-a5f177eba70c",
   "metadata": {
    "scrolled": true
   },
   "outputs": [
    {
     "name": "stdout",
     "output_type": "stream",
     "text": [
      "Epoch 1/10\n",
      "\u001b[1m296/296\u001b[0m \u001b[32m━━━━━━━━━━━━━━━━━━━━\u001b[0m\u001b[37m\u001b[0m \u001b[1m1516s\u001b[0m 5s/step - accuracy: 0.6990 - loss: 0.6070 - val_accuracy: 0.6685 - val_loss: 0.6387 - learning_rate: 1.0000e-04\n",
      "Epoch 2/10\n",
      "\u001b[1m296/296\u001b[0m \u001b[32m━━━━━━━━━━━━━━━━━━━━\u001b[0m\u001b[37m\u001b[0m \u001b[1m1470s\u001b[0m 5s/step - accuracy: 0.8609 - loss: 0.3042 - val_accuracy: 0.5648 - val_loss: 0.8418 - learning_rate: 1.0000e-04\n",
      "Epoch 3/10\n",
      "\u001b[1m296/296\u001b[0m \u001b[32m━━━━━━━━━━━━━━━━━━━━\u001b[0m\u001b[37m\u001b[0m \u001b[1m1463s\u001b[0m 5s/step - accuracy: 0.9033 - loss: 0.2206 - val_accuracy: 0.7062 - val_loss: 0.7930 - learning_rate: 1.0000e-04\n",
      "Epoch 4/10\n",
      "\u001b[1m296/296\u001b[0m \u001b[32m━━━━━━━━━━━━━━━━━━━━\u001b[0m\u001b[37m\u001b[0m \u001b[1m1493s\u001b[0m 5s/step - accuracy: 0.9232 - loss: 0.1892 - val_accuracy: 0.8920 - val_loss: 0.2396 - learning_rate: 1.0000e-04\n",
      "Epoch 5/10\n",
      "\u001b[1m296/296\u001b[0m \u001b[32m━━━━━━━━━━━━━━━━━━━━\u001b[0m\u001b[37m\u001b[0m \u001b[1m1476s\u001b[0m 5s/step - accuracy: 0.9368 - loss: 0.1544 - val_accuracy: 0.9208 - val_loss: 0.4266 - learning_rate: 1.0000e-04\n",
      "Epoch 6/10\n",
      "\u001b[1m296/296\u001b[0m \u001b[32m━━━━━━━━━━━━━━━━━━━━\u001b[0m\u001b[37m\u001b[0m \u001b[1m1437s\u001b[0m 5s/step - accuracy: 0.9380 - loss: 0.1507 - val_accuracy: 0.9183 - val_loss: 0.1878 - learning_rate: 1.0000e-04\n",
      "Epoch 7/10\n",
      "\u001b[1m296/296\u001b[0m \u001b[32m━━━━━━━━━━━━━━━━━━━━\u001b[0m\u001b[37m\u001b[0m \u001b[1m1435s\u001b[0m 5s/step - accuracy: 0.9485 - loss: 0.1293 - val_accuracy: 0.8887 - val_loss: 0.2585 - learning_rate: 1.0000e-04\n",
      "Epoch 8/10\n",
      "\u001b[1m296/296\u001b[0m \u001b[32m━━━━━━━━━━━━━━━━━━━━\u001b[0m\u001b[37m\u001b[0m \u001b[1m1438s\u001b[0m 5s/step - accuracy: 0.9424 - loss: 0.1264 - val_accuracy: 0.9606 - val_loss: 0.1074 - learning_rate: 1.0000e-04\n",
      "Epoch 9/10\n",
      "\u001b[1m296/296\u001b[0m \u001b[32m━━━━━━━━━━━━━━━━━━━━\u001b[0m\u001b[37m\u001b[0m \u001b[1m1437s\u001b[0m 5s/step - accuracy: 0.9663 - loss: 0.0937 - val_accuracy: 0.9263 - val_loss: 0.1793 - learning_rate: 1.0000e-04\n",
      "Epoch 10/10\n",
      "\u001b[1m296/296\u001b[0m \u001b[32m━━━━━━━━━━━━━━━━━━━━\u001b[0m\u001b[37m\u001b[0m \u001b[1m1469s\u001b[0m 5s/step - accuracy: 0.9608 - loss: 0.1014 - val_accuracy: 0.9687 - val_loss: 0.0822 - learning_rate: 1.0000e-04\n"
     ]
    }
   ],
   "source": [
    "history = model.fit(train_generator, epochs=10, validation_data=(X_test, y_test),\n",
    "                    callbacks=[early_stopping, lr_reduce])"
   ]
  },
  {
   "cell_type": "code",
   "execution_count": 43,
   "id": "152c9189-0c87-4f23-b929-3944cf4e2dc2",
   "metadata": {},
   "outputs": [
    {
     "name": "stdout",
     "output_type": "stream",
     "text": [
      "\u001b[1m74/74\u001b[0m \u001b[32m━━━━━━━━━━━━━━━━━━━━\u001b[0m\u001b[37m\u001b[0m \u001b[1m76s\u001b[0m 1s/step - accuracy: 0.9708 - loss: 0.0789\n",
      "Test Accuracy: 96.87%\n"
     ]
    }
   ],
   "source": [
    "loss, accuracy = model.evaluate(X_test, y_test)\n",
    "print(f\"Test Accuracy: {accuracy * 100:.2f}%\")"
   ]
  },
  {
   "cell_type": "code",
   "execution_count": 47,
   "id": "e239d854-5cde-469c-8e31-85208d0859b8",
   "metadata": {},
   "outputs": [],
   "source": [
    "model.save('C:\\\\Users\\\\HP\\\\Downloads\\\\deepfake_resnet50_model.keras')"
   ]
  },
  {
   "cell_type": "code",
   "execution_count": null,
   "id": "a0a55ad4-b141-4db5-bb33-c84da8c2c94b",
   "metadata": {},
   "outputs": [],
   "source": []
  }
 ],
 "metadata": {
  "kernelspec": {
   "display_name": "Python 3 (ipykernel)",
   "language": "python",
   "name": "python3"
  },
  "language_info": {
   "codemirror_mode": {
    "name": "ipython",
    "version": 3
   },
   "file_extension": ".py",
   "mimetype": "text/x-python",
   "name": "python",
   "nbconvert_exporter": "python",
   "pygments_lexer": "ipython3",
   "version": "3.12.4"
  }
 },
 "nbformat": 4,
 "nbformat_minor": 5
}
